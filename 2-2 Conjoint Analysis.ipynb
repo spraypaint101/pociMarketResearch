{
 "cells": [
  {
   "cell_type": "code",
   "execution_count": 1,
   "metadata": {},
   "outputs": [],
   "source": [
    "# Importing the necessary packages\n",
    "library(AlgDesign)\n",
    "library(MLCM)\n",
    "library(conjoint)"
   ]
  },
  {
   "cell_type": "raw",
   "metadata": {},
   "source": [
    "[CONJOINT MODEL SPECIFICATIONS]\n",
    "Target variable: Utility\n",
    "Factors and levels:\n",
    "Cup size: 300ml, 450ml, 600ml (OK)\n",
    "Flavors: original, strawberry, orange (?)\n",
    "Price: 3000, 5000, 7000 (?) Atau 4000, 5000, 6000?\n",
    "Prohibited combinations: Why don't we just generate an orthogonal design first, and then see whether or not any unrealistic combinations are generated? <- guess this is OK\n",
    "Number of orthogonal objects = 9 - 3 + 1 = 7"
   ]
  },
  {
   "cell_type": "code",
   "execution_count": 3,
   "metadata": {},
   "outputs": [],
   "source": [
    "# Defining the (initial) full factorial design\n",
    "ffd <- gen.factorial(c(3, 3, 3), varNames = c('cupSize', 'flavors', 'price'), factors = 'all')"
   ]
  },
  {
   "cell_type": "code",
   "execution_count": 4,
   "metadata": {},
   "outputs": [
    {
     "data": {
      "text/html": [
       "<table>\n",
       "<thead><tr><th scope=col>cupSize</th><th scope=col>flavors</th><th scope=col>price</th></tr></thead>\n",
       "<tbody>\n",
       "\t<tr><td>1</td><td>1</td><td>1</td></tr>\n",
       "\t<tr><td>2</td><td>1</td><td>1</td></tr>\n",
       "\t<tr><td>3</td><td>1</td><td>1</td></tr>\n",
       "\t<tr><td>1</td><td>2</td><td>1</td></tr>\n",
       "\t<tr><td>2</td><td>2</td><td>1</td></tr>\n",
       "\t<tr><td>3</td><td>2</td><td>1</td></tr>\n",
       "\t<tr><td>1</td><td>3</td><td>1</td></tr>\n",
       "\t<tr><td>2</td><td>3</td><td>1</td></tr>\n",
       "\t<tr><td>3</td><td>3</td><td>1</td></tr>\n",
       "\t<tr><td>1</td><td>1</td><td>2</td></tr>\n",
       "\t<tr><td>2</td><td>1</td><td>2</td></tr>\n",
       "\t<tr><td>3</td><td>1</td><td>2</td></tr>\n",
       "\t<tr><td>1</td><td>2</td><td>2</td></tr>\n",
       "\t<tr><td>2</td><td>2</td><td>2</td></tr>\n",
       "\t<tr><td>3</td><td>2</td><td>2</td></tr>\n",
       "\t<tr><td>1</td><td>3</td><td>2</td></tr>\n",
       "\t<tr><td>2</td><td>3</td><td>2</td></tr>\n",
       "\t<tr><td>3</td><td>3</td><td>2</td></tr>\n",
       "\t<tr><td>1</td><td>1</td><td>3</td></tr>\n",
       "\t<tr><td>2</td><td>1</td><td>3</td></tr>\n",
       "\t<tr><td>3</td><td>1</td><td>3</td></tr>\n",
       "\t<tr><td>1</td><td>2</td><td>3</td></tr>\n",
       "\t<tr><td>2</td><td>2</td><td>3</td></tr>\n",
       "\t<tr><td>3</td><td>2</td><td>3</td></tr>\n",
       "\t<tr><td>1</td><td>3</td><td>3</td></tr>\n",
       "\t<tr><td>2</td><td>3</td><td>3</td></tr>\n",
       "\t<tr><td>3</td><td>3</td><td>3</td></tr>\n",
       "</tbody>\n",
       "</table>\n"
      ],
      "text/latex": [
       "\\begin{tabular}{r|lll}\n",
       " cupSize & flavors & price\\\\\n",
       "\\hline\n",
       "\t 1 & 1 & 1\\\\\n",
       "\t 2 & 1 & 1\\\\\n",
       "\t 3 & 1 & 1\\\\\n",
       "\t 1 & 2 & 1\\\\\n",
       "\t 2 & 2 & 1\\\\\n",
       "\t 3 & 2 & 1\\\\\n",
       "\t 1 & 3 & 1\\\\\n",
       "\t 2 & 3 & 1\\\\\n",
       "\t 3 & 3 & 1\\\\\n",
       "\t 1 & 1 & 2\\\\\n",
       "\t 2 & 1 & 2\\\\\n",
       "\t 3 & 1 & 2\\\\\n",
       "\t 1 & 2 & 2\\\\\n",
       "\t 2 & 2 & 2\\\\\n",
       "\t 3 & 2 & 2\\\\\n",
       "\t 1 & 3 & 2\\\\\n",
       "\t 2 & 3 & 2\\\\\n",
       "\t 3 & 3 & 2\\\\\n",
       "\t 1 & 1 & 3\\\\\n",
       "\t 2 & 1 & 3\\\\\n",
       "\t 3 & 1 & 3\\\\\n",
       "\t 1 & 2 & 3\\\\\n",
       "\t 2 & 2 & 3\\\\\n",
       "\t 3 & 2 & 3\\\\\n",
       "\t 1 & 3 & 3\\\\\n",
       "\t 2 & 3 & 3\\\\\n",
       "\t 3 & 3 & 3\\\\\n",
       "\\end{tabular}\n"
      ],
      "text/markdown": [
       "\n",
       "cupSize | flavors | price | \n",
       "|---|---|---|---|---|---|---|---|---|---|---|---|---|---|---|---|---|---|---|---|---|---|---|---|---|---|---|\n",
       "| 1 | 1 | 1 | \n",
       "| 2 | 1 | 1 | \n",
       "| 3 | 1 | 1 | \n",
       "| 1 | 2 | 1 | \n",
       "| 2 | 2 | 1 | \n",
       "| 3 | 2 | 1 | \n",
       "| 1 | 3 | 1 | \n",
       "| 2 | 3 | 1 | \n",
       "| 3 | 3 | 1 | \n",
       "| 1 | 1 | 2 | \n",
       "| 2 | 1 | 2 | \n",
       "| 3 | 1 | 2 | \n",
       "| 1 | 2 | 2 | \n",
       "| 2 | 2 | 2 | \n",
       "| 3 | 2 | 2 | \n",
       "| 1 | 3 | 2 | \n",
       "| 2 | 3 | 2 | \n",
       "| 3 | 3 | 2 | \n",
       "| 1 | 1 | 3 | \n",
       "| 2 | 1 | 3 | \n",
       "| 3 | 1 | 3 | \n",
       "| 1 | 2 | 3 | \n",
       "| 2 | 2 | 3 | \n",
       "| 3 | 2 | 3 | \n",
       "| 1 | 3 | 3 | \n",
       "| 2 | 3 | 3 | \n",
       "| 3 | 3 | 3 | \n",
       "\n",
       "\n"
      ],
      "text/plain": [
       "   cupSize flavors price\n",
       "1  1       1       1    \n",
       "2  2       1       1    \n",
       "3  3       1       1    \n",
       "4  1       2       1    \n",
       "5  2       2       1    \n",
       "6  3       2       1    \n",
       "7  1       3       1    \n",
       "8  2       3       1    \n",
       "9  3       3       1    \n",
       "10 1       1       2    \n",
       "11 2       1       2    \n",
       "12 3       1       2    \n",
       "13 1       2       2    \n",
       "14 2       2       2    \n",
       "15 3       2       2    \n",
       "16 1       3       2    \n",
       "17 2       3       2    \n",
       "18 3       3       2    \n",
       "19 1       1       3    \n",
       "20 2       1       3    \n",
       "21 3       1       3    \n",
       "22 1       2       3    \n",
       "23 2       2       3    \n",
       "24 3       2       3    \n",
       "25 1       3       3    \n",
       "26 2       3       3    \n",
       "27 3       3       3    "
      ]
     },
     "metadata": {},
     "output_type": "display_data"
    }
   ],
   "source": [
    "# Checking ffd\n",
    "ffd"
   ]
  },
  {
   "cell_type": "code",
   "execution_count": 5,
   "metadata": {},
   "outputs": [
    {
     "data": {
      "text/html": [
       "<table>\n",
       "<thead><tr><th></th><th scope=col>cupSize</th><th scope=col>flavors</th><th scope=col>price</th></tr></thead>\n",
       "<tbody>\n",
       "\t<tr><th scope=row>1</th><td>1</td><td>1</td><td>1</td></tr>\n",
       "\t<tr><th scope=row>5</th><td>2</td><td>2</td><td>1</td></tr>\n",
       "\t<tr><th scope=row>9</th><td>3</td><td>3</td><td>1</td></tr>\n",
       "\t<tr><th scope=row>12</th><td>3</td><td>1</td><td>2</td></tr>\n",
       "\t<tr><th scope=row>16</th><td>1</td><td>3</td><td>2</td></tr>\n",
       "\t<tr><th scope=row>22</th><td>1</td><td>2</td><td>3</td></tr>\n",
       "\t<tr><th scope=row>26</th><td>2</td><td>3</td><td>3</td></tr>\n",
       "</tbody>\n",
       "</table>\n"
      ],
      "text/latex": [
       "\\begin{tabular}{r|lll}\n",
       "  & cupSize & flavors & price\\\\\n",
       "\\hline\n",
       "\t1 & 1 & 1 & 1\\\\\n",
       "\t5 & 2 & 2 & 1\\\\\n",
       "\t9 & 3 & 3 & 1\\\\\n",
       "\t12 & 3 & 1 & 2\\\\\n",
       "\t16 & 1 & 3 & 2\\\\\n",
       "\t22 & 1 & 2 & 3\\\\\n",
       "\t26 & 2 & 3 & 3\\\\\n",
       "\\end{tabular}\n"
      ],
      "text/markdown": [
       "\n",
       "| <!--/--> | cupSize | flavors | price | \n",
       "|---|---|---|---|---|---|---|\n",
       "| 1 | 1 | 1 | 1 | \n",
       "| 5 | 2 | 2 | 1 | \n",
       "| 9 | 3 | 3 | 1 | \n",
       "| 12 | 3 | 1 | 2 | \n",
       "| 16 | 1 | 3 | 2 | \n",
       "| 22 | 1 | 2 | 3 | \n",
       "| 26 | 2 | 3 | 3 | \n",
       "\n",
       "\n"
      ],
      "text/plain": [
       "   cupSize flavors price\n",
       "1  1       1       1    \n",
       "5  2       2       1    \n",
       "9  3       3       1    \n",
       "12 3       1       2    \n",
       "16 1       3       2    \n",
       "22 1       2       3    \n",
       "26 2       3       3    "
      ]
     },
     "metadata": {},
     "output_type": "display_data"
    }
   ],
   "source": [
    "# Generating the orthogonal design\n",
    "set.seed(42)\n",
    "des <- optFederov(~., ffd, 7)\n",
    "des$design"
   ]
  },
  {
   "cell_type": "raw",
   "metadata": {},
   "source": [
    "[DESIGN SENSIBILITY CHECK]\n",
    "Cup size: 300ml, 450ml, 600ml (OK)\n",
    "Flavors: original, strawberry, orange (?)\n",
    "Price: 3000, 5000, 7000 (?) Atau 4000, 5000, 6000?\n",
    "\n",
    "This design creates a few designs that don't really make sense (ex. row 9: 600ml, orange, at only 3000?) Hence, some remedies would be necessary.\n",
    "\n",
    "Alternatively, we could combine price with cupSize; That might make more sense.\n",
    "\n",
    "Sensible combinations (7 levels):\n",
    "300ml, 3000\n",
    "300ml, 5000\n",
    "450ml, 3000\n",
    "450ml, 5000\n",
    "450ml, 7000\n",
    "600ml, 5000\n",
    "600ml, 7000\n",
    "\n",
    "Number of orthogonal objects = 10 - 2 + 1 = 9\n",
    "\n",
    "Still too many? Ideally under 7.\n",
    "\n",
    "I still think 9 questions is somewhat long, but we'll have to experiment tomorrow. Let's just try out this version (with 9 questions for this), and see how much time it takes (and whether you'd get confused when filling it in)."
   ]
  },
  {
   "cell_type": "code",
   "execution_count": 6,
   "metadata": {},
   "outputs": [],
   "source": [
    "# Defining the combined full factorial design\n",
    "ffdComb <- gen.factorial(c(7, 3), varNames = c('cupSize-price', 'flavors'), factors = 'all')"
   ]
  },
  {
   "cell_type": "code",
   "execution_count": 7,
   "metadata": {},
   "outputs": [
    {
     "data": {
      "text/html": [
       "<table>\n",
       "<thead><tr><th scope=col>cupSize-price</th><th scope=col>flavors</th></tr></thead>\n",
       "<tbody>\n",
       "\t<tr><td>1</td><td>1</td></tr>\n",
       "\t<tr><td>2</td><td>1</td></tr>\n",
       "\t<tr><td>3</td><td>1</td></tr>\n",
       "\t<tr><td>4</td><td>1</td></tr>\n",
       "\t<tr><td>5</td><td>1</td></tr>\n",
       "\t<tr><td>6</td><td>1</td></tr>\n",
       "\t<tr><td>7</td><td>1</td></tr>\n",
       "\t<tr><td>1</td><td>2</td></tr>\n",
       "\t<tr><td>2</td><td>2</td></tr>\n",
       "\t<tr><td>3</td><td>2</td></tr>\n",
       "\t<tr><td>4</td><td>2</td></tr>\n",
       "\t<tr><td>5</td><td>2</td></tr>\n",
       "\t<tr><td>6</td><td>2</td></tr>\n",
       "\t<tr><td>7</td><td>2</td></tr>\n",
       "\t<tr><td>1</td><td>3</td></tr>\n",
       "\t<tr><td>2</td><td>3</td></tr>\n",
       "\t<tr><td>3</td><td>3</td></tr>\n",
       "\t<tr><td>4</td><td>3</td></tr>\n",
       "\t<tr><td>5</td><td>3</td></tr>\n",
       "\t<tr><td>6</td><td>3</td></tr>\n",
       "\t<tr><td>7</td><td>3</td></tr>\n",
       "</tbody>\n",
       "</table>\n"
      ],
      "text/latex": [
       "\\begin{tabular}{r|ll}\n",
       " cupSize-price & flavors\\\\\n",
       "\\hline\n",
       "\t 1 & 1\\\\\n",
       "\t 2 & 1\\\\\n",
       "\t 3 & 1\\\\\n",
       "\t 4 & 1\\\\\n",
       "\t 5 & 1\\\\\n",
       "\t 6 & 1\\\\\n",
       "\t 7 & 1\\\\\n",
       "\t 1 & 2\\\\\n",
       "\t 2 & 2\\\\\n",
       "\t 3 & 2\\\\\n",
       "\t 4 & 2\\\\\n",
       "\t 5 & 2\\\\\n",
       "\t 6 & 2\\\\\n",
       "\t 7 & 2\\\\\n",
       "\t 1 & 3\\\\\n",
       "\t 2 & 3\\\\\n",
       "\t 3 & 3\\\\\n",
       "\t 4 & 3\\\\\n",
       "\t 5 & 3\\\\\n",
       "\t 6 & 3\\\\\n",
       "\t 7 & 3\\\\\n",
       "\\end{tabular}\n"
      ],
      "text/markdown": [
       "\n",
       "cupSize-price | flavors | \n",
       "|---|---|---|---|---|---|---|---|---|---|---|---|---|---|---|---|---|---|---|---|---|\n",
       "| 1 | 1 | \n",
       "| 2 | 1 | \n",
       "| 3 | 1 | \n",
       "| 4 | 1 | \n",
       "| 5 | 1 | \n",
       "| 6 | 1 | \n",
       "| 7 | 1 | \n",
       "| 1 | 2 | \n",
       "| 2 | 2 | \n",
       "| 3 | 2 | \n",
       "| 4 | 2 | \n",
       "| 5 | 2 | \n",
       "| 6 | 2 | \n",
       "| 7 | 2 | \n",
       "| 1 | 3 | \n",
       "| 2 | 3 | \n",
       "| 3 | 3 | \n",
       "| 4 | 3 | \n",
       "| 5 | 3 | \n",
       "| 6 | 3 | \n",
       "| 7 | 3 | \n",
       "\n",
       "\n"
      ],
      "text/plain": [
       "   cupSize-price flavors\n",
       "1  1             1      \n",
       "2  2             1      \n",
       "3  3             1      \n",
       "4  4             1      \n",
       "5  5             1      \n",
       "6  6             1      \n",
       "7  7             1      \n",
       "8  1             2      \n",
       "9  2             2      \n",
       "10 3             2      \n",
       "11 4             2      \n",
       "12 5             2      \n",
       "13 6             2      \n",
       "14 7             2      \n",
       "15 1             3      \n",
       "16 2             3      \n",
       "17 3             3      \n",
       "18 4             3      \n",
       "19 5             3      \n",
       "20 6             3      \n",
       "21 7             3      "
      ]
     },
     "metadata": {},
     "output_type": "display_data"
    }
   ],
   "source": [
    "# Checking ffdComb\n",
    "ffdComb"
   ]
  },
  {
   "cell_type": "code",
   "execution_count": 8,
   "metadata": {},
   "outputs": [
    {
     "data": {
      "text/html": [
       "<table>\n",
       "<thead><tr><th></th><th scope=col>cupSize-price</th><th scope=col>flavors</th></tr></thead>\n",
       "<tbody>\n",
       "\t<tr><th scope=row>1</th><td>1</td><td>1</td></tr>\n",
       "\t<tr><th scope=row>3</th><td>3</td><td>1</td></tr>\n",
       "\t<tr><th scope=row>6</th><td>6</td><td>1</td></tr>\n",
       "\t<tr><th scope=row>8</th><td>1</td><td>2</td></tr>\n",
       "\t<tr><th scope=row>10</th><td>3</td><td>2</td></tr>\n",
       "\t<tr><th scope=row>11</th><td>4</td><td>2</td></tr>\n",
       "\t<tr><th scope=row>12</th><td>5</td><td>2</td></tr>\n",
       "\t<tr><th scope=row>16</th><td>2</td><td>3</td></tr>\n",
       "\t<tr><th scope=row>19</th><td>5</td><td>3</td></tr>\n",
       "\t<tr><th scope=row>20</th><td>6</td><td>3</td></tr>\n",
       "\t<tr><th scope=row>21</th><td>7</td><td>3</td></tr>\n",
       "</tbody>\n",
       "</table>\n"
      ],
      "text/latex": [
       "\\begin{tabular}{r|ll}\n",
       "  & cupSize-price & flavors\\\\\n",
       "\\hline\n",
       "\t1 & 1 & 1\\\\\n",
       "\t3 & 3 & 1\\\\\n",
       "\t6 & 6 & 1\\\\\n",
       "\t8 & 1 & 2\\\\\n",
       "\t10 & 3 & 2\\\\\n",
       "\t11 & 4 & 2\\\\\n",
       "\t12 & 5 & 2\\\\\n",
       "\t16 & 2 & 3\\\\\n",
       "\t19 & 5 & 3\\\\\n",
       "\t20 & 6 & 3\\\\\n",
       "\t21 & 7 & 3\\\\\n",
       "\\end{tabular}\n"
      ],
      "text/markdown": [
       "\n",
       "| <!--/--> | cupSize-price | flavors | \n",
       "|---|---|---|---|---|---|---|---|---|---|---|\n",
       "| 1 | 1 | 1 | \n",
       "| 3 | 3 | 1 | \n",
       "| 6 | 6 | 1 | \n",
       "| 8 | 1 | 2 | \n",
       "| 10 | 3 | 2 | \n",
       "| 11 | 4 | 2 | \n",
       "| 12 | 5 | 2 | \n",
       "| 16 | 2 | 3 | \n",
       "| 19 | 5 | 3 | \n",
       "| 20 | 6 | 3 | \n",
       "| 21 | 7 | 3 | \n",
       "\n",
       "\n"
      ],
      "text/plain": [
       "   cupSize-price flavors\n",
       "1  1             1      \n",
       "3  3             1      \n",
       "6  6             1      \n",
       "8  1             2      \n",
       "10 3             2      \n",
       "11 4             2      \n",
       "12 5             2      \n",
       "16 2             3      \n",
       "19 5             3      \n",
       "20 6             3      \n",
       "21 7             3      "
      ]
     },
     "metadata": {},
     "output_type": "display_data"
    }
   ],
   "source": [
    "# Generating the orthogonal design of ffdComb\n",
    "set.seed(42)\n",
    "desComb <- optFederov(~., ffdComb,11)\n",
    "desComb$design"
   ]
  },
  {
   "cell_type": "raw",
   "metadata": {},
   "source": [
    "[DESIGN SENSIBILITY CHECK]\n",
    "Cup size & Price: \n",
    "1. 300ml, 3000\n",
    "2. 300ml, 5000\n",
    "3. 450ml, 3000\n",
    "4. 450ml, 5000\n",
    "5. 450ml, 7000\n",
    "6. 600ml, 5000\n",
    "7. 600ml, 7000\n",
    "Flavors: 1. original, 2. strawberry, 3. orange\n",
    "1. 300ml, 3000, original\n",
    "2. 450ml, 3000, original\n",
    "3. 600ml, 5000, original\n",
    "4. 300ml, 3000, strawberry\n",
    "5. 450ml, 3000, strawberry\n",
    "6. 450ml, 5000, strawberry\n",
    "7. 450ml, 7000, strawberry\n",
    "8. 300ml, 5000, orange\n",
    "9. 450ml, 7000, orange\n",
    "10. 600ml, 5000, orange\n",
    "11. 600ml, 7000, orange\n",
    "nb: setelah dipikir-pikir lagi, mungkin 3000 untuk 450ml juga tidak terlalu realistis. sepertinya range harganya harus sedikit ditingkatkan.\n",
    "\n",
    "Harga jadi 4000, 5000, 7000.\n",
    "Cup size & Price: \n",
    "1. 300ml, 4000\n",
    "2. 300ml, 5000\n",
    "3. 450ml, 5000\n",
    "4. 450ml, 7000\n",
    "5. 600ml, 5000\n",
    "6. 600ml, 7000"
   ]
  },
  {
   "cell_type": "code",
   "execution_count": 9,
   "metadata": {},
   "outputs": [],
   "source": [
    "# Defining the modified combined full factorial design\n",
    "ffdModComb <- gen.factorial(c(6, 3), varNames = c('cupSize-price', 'flavors'), factors = 'all')"
   ]
  },
  {
   "cell_type": "code",
   "execution_count": 10,
   "metadata": {},
   "outputs": [
    {
     "data": {
      "text/html": [
       "<table>\n",
       "<thead><tr><th scope=col>cupSize-price</th><th scope=col>flavors</th></tr></thead>\n",
       "<tbody>\n",
       "\t<tr><td>1</td><td>1</td></tr>\n",
       "\t<tr><td>2</td><td>1</td></tr>\n",
       "\t<tr><td>3</td><td>1</td></tr>\n",
       "\t<tr><td>4</td><td>1</td></tr>\n",
       "\t<tr><td>5</td><td>1</td></tr>\n",
       "\t<tr><td>6</td><td>1</td></tr>\n",
       "\t<tr><td>1</td><td>2</td></tr>\n",
       "\t<tr><td>2</td><td>2</td></tr>\n",
       "\t<tr><td>3</td><td>2</td></tr>\n",
       "\t<tr><td>4</td><td>2</td></tr>\n",
       "\t<tr><td>5</td><td>2</td></tr>\n",
       "\t<tr><td>6</td><td>2</td></tr>\n",
       "\t<tr><td>1</td><td>3</td></tr>\n",
       "\t<tr><td>2</td><td>3</td></tr>\n",
       "\t<tr><td>3</td><td>3</td></tr>\n",
       "\t<tr><td>4</td><td>3</td></tr>\n",
       "\t<tr><td>5</td><td>3</td></tr>\n",
       "\t<tr><td>6</td><td>3</td></tr>\n",
       "</tbody>\n",
       "</table>\n"
      ],
      "text/latex": [
       "\\begin{tabular}{r|ll}\n",
       " cupSize-price & flavors\\\\\n",
       "\\hline\n",
       "\t 1 & 1\\\\\n",
       "\t 2 & 1\\\\\n",
       "\t 3 & 1\\\\\n",
       "\t 4 & 1\\\\\n",
       "\t 5 & 1\\\\\n",
       "\t 6 & 1\\\\\n",
       "\t 1 & 2\\\\\n",
       "\t 2 & 2\\\\\n",
       "\t 3 & 2\\\\\n",
       "\t 4 & 2\\\\\n",
       "\t 5 & 2\\\\\n",
       "\t 6 & 2\\\\\n",
       "\t 1 & 3\\\\\n",
       "\t 2 & 3\\\\\n",
       "\t 3 & 3\\\\\n",
       "\t 4 & 3\\\\\n",
       "\t 5 & 3\\\\\n",
       "\t 6 & 3\\\\\n",
       "\\end{tabular}\n"
      ],
      "text/markdown": [
       "\n",
       "cupSize-price | flavors | \n",
       "|---|---|---|---|---|---|---|---|---|---|---|---|---|---|---|---|---|---|\n",
       "| 1 | 1 | \n",
       "| 2 | 1 | \n",
       "| 3 | 1 | \n",
       "| 4 | 1 | \n",
       "| 5 | 1 | \n",
       "| 6 | 1 | \n",
       "| 1 | 2 | \n",
       "| 2 | 2 | \n",
       "| 3 | 2 | \n",
       "| 4 | 2 | \n",
       "| 5 | 2 | \n",
       "| 6 | 2 | \n",
       "| 1 | 3 | \n",
       "| 2 | 3 | \n",
       "| 3 | 3 | \n",
       "| 4 | 3 | \n",
       "| 5 | 3 | \n",
       "| 6 | 3 | \n",
       "\n",
       "\n"
      ],
      "text/plain": [
       "   cupSize-price flavors\n",
       "1  1             1      \n",
       "2  2             1      \n",
       "3  3             1      \n",
       "4  4             1      \n",
       "5  5             1      \n",
       "6  6             1      \n",
       "7  1             2      \n",
       "8  2             2      \n",
       "9  3             2      \n",
       "10 4             2      \n",
       "11 5             2      \n",
       "12 6             2      \n",
       "13 1             3      \n",
       "14 2             3      \n",
       "15 3             3      \n",
       "16 4             3      \n",
       "17 5             3      \n",
       "18 6             3      "
      ]
     },
     "metadata": {},
     "output_type": "display_data"
    }
   ],
   "source": [
    "# Checking ffdModComb\n",
    "ffdModComb"
   ]
  },
  {
   "cell_type": "code",
   "execution_count": 11,
   "metadata": {},
   "outputs": [
    {
     "data": {
      "text/html": [
       "<table>\n",
       "<thead><tr><th></th><th scope=col>cupSize-price</th><th scope=col>flavors</th></tr></thead>\n",
       "<tbody>\n",
       "\t<tr><th scope=row>2</th><td>2</td><td>1</td></tr>\n",
       "\t<tr><th scope=row>3</th><td>3</td><td>1</td></tr>\n",
       "\t<tr><th scope=row>5</th><td>5</td><td>1</td></tr>\n",
       "\t<tr><th scope=row>7</th><td>1</td><td>2</td></tr>\n",
       "\t<tr><th scope=row>9</th><td>3</td><td>2</td></tr>\n",
       "\t<tr><th scope=row>10</th><td>4</td><td>2</td></tr>\n",
       "\t<tr><th scope=row>12</th><td>6</td><td>2</td></tr>\n",
       "\t<tr><th scope=row>18</th><td>6</td><td>3</td></tr>\n",
       "</tbody>\n",
       "</table>\n"
      ],
      "text/latex": [
       "\\begin{tabular}{r|ll}\n",
       "  & cupSize-price & flavors\\\\\n",
       "\\hline\n",
       "\t2 & 2 & 1\\\\\n",
       "\t3 & 3 & 1\\\\\n",
       "\t5 & 5 & 1\\\\\n",
       "\t7 & 1 & 2\\\\\n",
       "\t9 & 3 & 2\\\\\n",
       "\t10 & 4 & 2\\\\\n",
       "\t12 & 6 & 2\\\\\n",
       "\t18 & 6 & 3\\\\\n",
       "\\end{tabular}\n"
      ],
      "text/markdown": [
       "\n",
       "| <!--/--> | cupSize-price | flavors | \n",
       "|---|---|---|---|---|---|---|---|\n",
       "| 2 | 2 | 1 | \n",
       "| 3 | 3 | 1 | \n",
       "| 5 | 5 | 1 | \n",
       "| 7 | 1 | 2 | \n",
       "| 9 | 3 | 2 | \n",
       "| 10 | 4 | 2 | \n",
       "| 12 | 6 | 2 | \n",
       "| 18 | 6 | 3 | \n",
       "\n",
       "\n"
      ],
      "text/plain": [
       "   cupSize-price flavors\n",
       "2  2             1      \n",
       "3  3             1      \n",
       "5  5             1      \n",
       "7  1             2      \n",
       "9  3             2      \n",
       "10 4             2      \n",
       "12 6             2      \n",
       "18 6             3      "
      ]
     },
     "metadata": {},
     "output_type": "display_data"
    }
   ],
   "source": [
    "# Generating the orthogonal design of ffdModComb\n",
    "set.seed(42)\n",
    "desModComb <- optFederov(~., ffdModComb,8)\n",
    "desModComb$design"
   ]
  },
  {
   "cell_type": "raw",
   "metadata": {},
   "source": [
    "330[DESIGN SENSIBILITY CHECK]\n",
    "1. 300ml, 7000, original\n",
    "2. 450ml, 7000, original\n",
    "3. 600ml, 9000, original\n",
    "4. 300ml, 5000, buah\n",
    "5. 450ml, 7000, buah\n",
    "6. 450ml, 9000, buah\n",
    "7. 600ml, 11000, buah\n",
    "8. 600ml, 11000, milk tea\n",
    "\n",
    "Cup size & Price: \n",
    "1. 300ml, 5000\n",
    "2. 300ml, 7000\n",
    "3. 450ml, 7000\n",
    "4. 450ml, 9000\n",
    "5. 600ml, 9000\n",
    "6. 600ml, 11000\n",
    "\n",
    "Flavors: 1. original, 2. buah, 3. milk tea\n",
    "\n",
    "5000 untuk cup 600 ml apakah sensible? Rasanya tidak.. coba agak disesuaikan lagi\n",
    "\n",
    "nb: kalo untuk tiap ukuran cup cuman bisa ada 2 harga, mendingan std an turun"
   ]
  },
  {
   "cell_type": "raw",
   "metadata": {},
   "source": [
    "NOTE: We might have to take the conjoint analysis part of this down offline; The conjoint package doesn't seem to be available on the server."
   ]
  },
  {
   "cell_type": "code",
   "execution_count": 12,
   "metadata": {},
   "outputs": [],
   "source": [
    "results <- desModComb$design"
   ]
  },
  {
   "cell_type": "code",
   "execution_count": 45,
   "metadata": {},
   "outputs": [],
   "source": [
    "answers <- c(2, 1, 5, 2, 2, 2, 2, 1)"
   ]
  },
  {
   "cell_type": "code",
   "execution_count": 46,
   "metadata": {},
   "outputs": [],
   "source": [
    "urutan <- c(2, 4, 8, 1, 6, 3, 5, 7)\n",
    "results$answers[urutan] <- answers"
   ]
  },
  {
   "cell_type": "code",
   "execution_count": 47,
   "metadata": {},
   "outputs": [
    {
     "data": {
      "text/html": [
       "<table>\n",
       "<thead><tr><th></th><th scope=col>cupSizeXprice</th><th scope=col>flavors</th><th scope=col>answers</th></tr></thead>\n",
       "<tbody>\n",
       "\t<tr><th scope=row>2</th><td>2</td><td>1</td><td>2</td></tr>\n",
       "\t<tr><th scope=row>3</th><td>3</td><td>1</td><td>2</td></tr>\n",
       "\t<tr><th scope=row>5</th><td>5</td><td>1</td><td>2</td></tr>\n",
       "\t<tr><th scope=row>7</th><td>1</td><td>2</td><td>1</td></tr>\n",
       "\t<tr><th scope=row>9</th><td>3</td><td>2</td><td>2</td></tr>\n",
       "\t<tr><th scope=row>10</th><td>4</td><td>2</td><td>2</td></tr>\n",
       "\t<tr><th scope=row>12</th><td>6</td><td>2</td><td>1</td></tr>\n",
       "\t<tr><th scope=row>18</th><td>6</td><td>3</td><td>5</td></tr>\n",
       "</tbody>\n",
       "</table>\n"
      ],
      "text/latex": [
       "\\begin{tabular}{r|lll}\n",
       "  & cupSizeXprice & flavors & answers\\\\\n",
       "\\hline\n",
       "\t2 & 2 & 1 & 2\\\\\n",
       "\t3 & 3 & 1 & 2\\\\\n",
       "\t5 & 5 & 1 & 2\\\\\n",
       "\t7 & 1 & 2 & 1\\\\\n",
       "\t9 & 3 & 2 & 2\\\\\n",
       "\t10 & 4 & 2 & 2\\\\\n",
       "\t12 & 6 & 2 & 1\\\\\n",
       "\t18 & 6 & 3 & 5\\\\\n",
       "\\end{tabular}\n"
      ],
      "text/markdown": [
       "\n",
       "| <!--/--> | cupSizeXprice | flavors | answers | \n",
       "|---|---|---|---|---|---|---|---|\n",
       "| 2 | 2 | 1 | 2 | \n",
       "| 3 | 3 | 1 | 2 | \n",
       "| 5 | 5 | 1 | 2 | \n",
       "| 7 | 1 | 2 | 1 | \n",
       "| 9 | 3 | 2 | 2 | \n",
       "| 10 | 4 | 2 | 2 | \n",
       "| 12 | 6 | 2 | 1 | \n",
       "| 18 | 6 | 3 | 5 | \n",
       "\n",
       "\n"
      ],
      "text/plain": [
       "   cupSizeXprice flavors answers\n",
       "2  2             1       2      \n",
       "3  3             1       2      \n",
       "5  5             1       2      \n",
       "7  1             2       1      \n",
       "9  3             2       2      \n",
       "10 4             2       2      \n",
       "12 6             2       1      \n",
       "18 6             3       5      "
      ]
     },
     "metadata": {},
     "output_type": "display_data"
    },
    {
     "data": {
      "text/html": [
       "<table>\n",
       "<thead><tr><th></th><th scope=col>cupSizeXprice</th><th scope=col>flavors</th><th scope=col>answers</th></tr></thead>\n",
       "<tbody>\n",
       "\t<tr><th scope=row>2</th><td>2</td><td>1</td><td>2</td></tr>\n",
       "\t<tr><th scope=row>3</th><td>3</td><td>1</td><td>2</td></tr>\n",
       "\t<tr><th scope=row>5</th><td>5</td><td>1</td><td>2</td></tr>\n",
       "\t<tr><th scope=row>7</th><td>1</td><td>2</td><td>1</td></tr>\n",
       "\t<tr><th scope=row>9</th><td>3</td><td>2</td><td>2</td></tr>\n",
       "\t<tr><th scope=row>10</th><td>4</td><td>2</td><td>2</td></tr>\n",
       "\t<tr><th scope=row>12</th><td>6</td><td>2</td><td>1</td></tr>\n",
       "\t<tr><th scope=row>18</th><td>6</td><td>3</td><td>5</td></tr>\n",
       "</tbody>\n",
       "</table>\n"
      ],
      "text/latex": [
       "\\begin{tabular}{r|lll}\n",
       "  & cupSizeXprice & flavors & answers\\\\\n",
       "\\hline\n",
       "\t2 & 2 & 1 & 2\\\\\n",
       "\t3 & 3 & 1 & 2\\\\\n",
       "\t5 & 5 & 1 & 2\\\\\n",
       "\t7 & 1 & 2 & 1\\\\\n",
       "\t9 & 3 & 2 & 2\\\\\n",
       "\t10 & 4 & 2 & 2\\\\\n",
       "\t12 & 6 & 2 & 1\\\\\n",
       "\t18 & 6 & 3 & 5\\\\\n",
       "\\end{tabular}\n"
      ],
      "text/markdown": [
       "\n",
       "| <!--/--> | cupSizeXprice | flavors | answers | \n",
       "|---|---|---|---|---|---|---|---|\n",
       "| 2 | 2 | 1 | 2 | \n",
       "| 3 | 3 | 1 | 2 | \n",
       "| 5 | 5 | 1 | 2 | \n",
       "| 7 | 1 | 2 | 1 | \n",
       "| 9 | 3 | 2 | 2 | \n",
       "| 10 | 4 | 2 | 2 | \n",
       "| 12 | 6 | 2 | 1 | \n",
       "| 18 | 6 | 3 | 5 | \n",
       "\n",
       "\n"
      ],
      "text/plain": [
       "   cupSizeXprice flavors answers\n",
       "2  2             1       2      \n",
       "3  3             1       2      \n",
       "5  5             1       2      \n",
       "7  1             2       1      \n",
       "9  3             2       2      \n",
       "10 4             2       2      \n",
       "12 6             2       1      \n",
       "18 6             3       5      "
      ]
     },
     "metadata": {},
     "output_type": "display_data"
    },
    {
     "data": {
      "text/html": [
       "<table>\n",
       "<thead><tr><th></th><th scope=col>cupSizeXprice</th><th scope=col>flavors</th><th scope=col>answers</th></tr></thead>\n",
       "<tbody>\n",
       "\t<tr><th scope=row>2</th><td>2</td><td>1</td><td>2</td></tr>\n",
       "\t<tr><th scope=row>3</th><td>3</td><td>1</td><td>2</td></tr>\n",
       "\t<tr><th scope=row>5</th><td>5</td><td>1</td><td>2</td></tr>\n",
       "\t<tr><th scope=row>7</th><td>1</td><td>2</td><td>1</td></tr>\n",
       "\t<tr><th scope=row>9</th><td>3</td><td>2</td><td>2</td></tr>\n",
       "\t<tr><th scope=row>10</th><td>4</td><td>2</td><td>2</td></tr>\n",
       "\t<tr><th scope=row>12</th><td>6</td><td>2</td><td>1</td></tr>\n",
       "\t<tr><th scope=row>18</th><td>6</td><td>3</td><td>5</td></tr>\n",
       "</tbody>\n",
       "</table>\n"
      ],
      "text/latex": [
       "\\begin{tabular}{r|lll}\n",
       "  & cupSizeXprice & flavors & answers\\\\\n",
       "\\hline\n",
       "\t2 & 2 & 1 & 2\\\\\n",
       "\t3 & 3 & 1 & 2\\\\\n",
       "\t5 & 5 & 1 & 2\\\\\n",
       "\t7 & 1 & 2 & 1\\\\\n",
       "\t9 & 3 & 2 & 2\\\\\n",
       "\t10 & 4 & 2 & 2\\\\\n",
       "\t12 & 6 & 2 & 1\\\\\n",
       "\t18 & 6 & 3 & 5\\\\\n",
       "\\end{tabular}\n"
      ],
      "text/markdown": [
       "\n",
       "| <!--/--> | cupSizeXprice | flavors | answers | \n",
       "|---|---|---|---|---|---|---|---|\n",
       "| 2 | 2 | 1 | 2 | \n",
       "| 3 | 3 | 1 | 2 | \n",
       "| 5 | 5 | 1 | 2 | \n",
       "| 7 | 1 | 2 | 1 | \n",
       "| 9 | 3 | 2 | 2 | \n",
       "| 10 | 4 | 2 | 2 | \n",
       "| 12 | 6 | 2 | 1 | \n",
       "| 18 | 6 | 3 | 5 | \n",
       "\n",
       "\n"
      ],
      "text/plain": [
       "   cupSizeXprice flavors answers\n",
       "2  2             1       2      \n",
       "3  3             1       2      \n",
       "5  5             1       2      \n",
       "7  1             2       1      \n",
       "9  3             2       2      \n",
       "10 4             2       2      \n",
       "12 6             2       1      \n",
       "18 6             3       5      "
      ]
     },
     "metadata": {},
     "output_type": "display_data"
    }
   ],
   "source": [
    "results"
   ]
  },
  {
   "cell_type": "code",
   "execution_count": 48,
   "metadata": {},
   "outputs": [],
   "source": [
    "names(results) <- c('cupSizeXprice', 'flavors', 'answers')"
   ]
  },
  {
   "cell_type": "code",
   "execution_count": 49,
   "metadata": {},
   "outputs": [],
   "source": [
    "# Setting up matrix of preferences\n",
    "preferences <- results$answers"
   ]
  },
  {
   "cell_type": "code",
   "execution_count": 50,
   "metadata": {},
   "outputs": [],
   "source": [
    "# Setting up matrix of profiles\n",
    "profile <- results[, c('cupSizeXprice', 'flavors')]"
   ]
  },
  {
   "cell_type": "code",
   "execution_count": 51,
   "metadata": {},
   "outputs": [
    {
     "data": {
      "text/html": [
       "<table>\n",
       "<thead><tr><th></th><th scope=col>cupSizeXprice</th><th scope=col>flavors</th></tr></thead>\n",
       "<tbody>\n",
       "\t<tr><th scope=row>2</th><td>2</td><td>1</td></tr>\n",
       "\t<tr><th scope=row>3</th><td>3</td><td>1</td></tr>\n",
       "\t<tr><th scope=row>5</th><td>5</td><td>1</td></tr>\n",
       "\t<tr><th scope=row>7</th><td>1</td><td>2</td></tr>\n",
       "\t<tr><th scope=row>9</th><td>3</td><td>2</td></tr>\n",
       "\t<tr><th scope=row>10</th><td>4</td><td>2</td></tr>\n",
       "\t<tr><th scope=row>12</th><td>6</td><td>2</td></tr>\n",
       "\t<tr><th scope=row>18</th><td>6</td><td>3</td></tr>\n",
       "</tbody>\n",
       "</table>\n"
      ],
      "text/latex": [
       "\\begin{tabular}{r|ll}\n",
       "  & cupSizeXprice & flavors\\\\\n",
       "\\hline\n",
       "\t2 & 2 & 1\\\\\n",
       "\t3 & 3 & 1\\\\\n",
       "\t5 & 5 & 1\\\\\n",
       "\t7 & 1 & 2\\\\\n",
       "\t9 & 3 & 2\\\\\n",
       "\t10 & 4 & 2\\\\\n",
       "\t12 & 6 & 2\\\\\n",
       "\t18 & 6 & 3\\\\\n",
       "\\end{tabular}\n"
      ],
      "text/markdown": [
       "\n",
       "| <!--/--> | cupSizeXprice | flavors | \n",
       "|---|---|---|---|---|---|---|---|\n",
       "| 2 | 2 | 1 | \n",
       "| 3 | 3 | 1 | \n",
       "| 5 | 5 | 1 | \n",
       "| 7 | 1 | 2 | \n",
       "| 9 | 3 | 2 | \n",
       "| 10 | 4 | 2 | \n",
       "| 12 | 6 | 2 | \n",
       "| 18 | 6 | 3 | \n",
       "\n",
       "\n"
      ],
      "text/plain": [
       "   cupSizeXprice flavors\n",
       "2  2             1      \n",
       "3  3             1      \n",
       "5  5             1      \n",
       "7  1             2      \n",
       "9  3             2      \n",
       "10 4             2      \n",
       "12 6             2      \n",
       "18 6             3      "
      ]
     },
     "metadata": {},
     "output_type": "display_data"
    },
    {
     "data": {
      "text/html": [
       "<table>\n",
       "<thead><tr><th></th><th scope=col>cupSizeXprice</th><th scope=col>flavors</th></tr></thead>\n",
       "<tbody>\n",
       "\t<tr><th scope=row>2</th><td>2</td><td>1</td></tr>\n",
       "\t<tr><th scope=row>3</th><td>3</td><td>1</td></tr>\n",
       "\t<tr><th scope=row>5</th><td>5</td><td>1</td></tr>\n",
       "\t<tr><th scope=row>7</th><td>1</td><td>2</td></tr>\n",
       "\t<tr><th scope=row>9</th><td>3</td><td>2</td></tr>\n",
       "\t<tr><th scope=row>10</th><td>4</td><td>2</td></tr>\n",
       "\t<tr><th scope=row>12</th><td>6</td><td>2</td></tr>\n",
       "\t<tr><th scope=row>18</th><td>6</td><td>3</td></tr>\n",
       "</tbody>\n",
       "</table>\n"
      ],
      "text/latex": [
       "\\begin{tabular}{r|ll}\n",
       "  & cupSizeXprice & flavors\\\\\n",
       "\\hline\n",
       "\t2 & 2 & 1\\\\\n",
       "\t3 & 3 & 1\\\\\n",
       "\t5 & 5 & 1\\\\\n",
       "\t7 & 1 & 2\\\\\n",
       "\t9 & 3 & 2\\\\\n",
       "\t10 & 4 & 2\\\\\n",
       "\t12 & 6 & 2\\\\\n",
       "\t18 & 6 & 3\\\\\n",
       "\\end{tabular}\n"
      ],
      "text/markdown": [
       "\n",
       "| <!--/--> | cupSizeXprice | flavors | \n",
       "|---|---|---|---|---|---|---|---|\n",
       "| 2 | 2 | 1 | \n",
       "| 3 | 3 | 1 | \n",
       "| 5 | 5 | 1 | \n",
       "| 7 | 1 | 2 | \n",
       "| 9 | 3 | 2 | \n",
       "| 10 | 4 | 2 | \n",
       "| 12 | 6 | 2 | \n",
       "| 18 | 6 | 3 | \n",
       "\n",
       "\n"
      ],
      "text/plain": [
       "   cupSizeXprice flavors\n",
       "2  2             1      \n",
       "3  3             1      \n",
       "5  5             1      \n",
       "7  1             2      \n",
       "9  3             2      \n",
       "10 4             2      \n",
       "12 6             2      \n",
       "18 6             3      "
      ]
     },
     "metadata": {},
     "output_type": "display_data"
    },
    {
     "data": {
      "text/html": [
       "<table>\n",
       "<thead><tr><th></th><th scope=col>cupSizeXprice</th><th scope=col>flavors</th></tr></thead>\n",
       "<tbody>\n",
       "\t<tr><th scope=row>2</th><td>2</td><td>1</td></tr>\n",
       "\t<tr><th scope=row>3</th><td>3</td><td>1</td></tr>\n",
       "\t<tr><th scope=row>5</th><td>5</td><td>1</td></tr>\n",
       "\t<tr><th scope=row>7</th><td>1</td><td>2</td></tr>\n",
       "\t<tr><th scope=row>9</th><td>3</td><td>2</td></tr>\n",
       "\t<tr><th scope=row>10</th><td>4</td><td>2</td></tr>\n",
       "\t<tr><th scope=row>12</th><td>6</td><td>2</td></tr>\n",
       "\t<tr><th scope=row>18</th><td>6</td><td>3</td></tr>\n",
       "</tbody>\n",
       "</table>\n"
      ],
      "text/latex": [
       "\\begin{tabular}{r|ll}\n",
       "  & cupSizeXprice & flavors\\\\\n",
       "\\hline\n",
       "\t2 & 2 & 1\\\\\n",
       "\t3 & 3 & 1\\\\\n",
       "\t5 & 5 & 1\\\\\n",
       "\t7 & 1 & 2\\\\\n",
       "\t9 & 3 & 2\\\\\n",
       "\t10 & 4 & 2\\\\\n",
       "\t12 & 6 & 2\\\\\n",
       "\t18 & 6 & 3\\\\\n",
       "\\end{tabular}\n"
      ],
      "text/markdown": [
       "\n",
       "| <!--/--> | cupSizeXprice | flavors | \n",
       "|---|---|---|---|---|---|---|---|\n",
       "| 2 | 2 | 1 | \n",
       "| 3 | 3 | 1 | \n",
       "| 5 | 5 | 1 | \n",
       "| 7 | 1 | 2 | \n",
       "| 9 | 3 | 2 | \n",
       "| 10 | 4 | 2 | \n",
       "| 12 | 6 | 2 | \n",
       "| 18 | 6 | 3 | \n",
       "\n",
       "\n"
      ],
      "text/plain": [
       "   cupSizeXprice flavors\n",
       "2  2             1      \n",
       "3  3             1      \n",
       "5  5             1      \n",
       "7  1             2      \n",
       "9  3             2      \n",
       "10 4             2      \n",
       "12 6             2      \n",
       "18 6             3      "
      ]
     },
     "metadata": {},
     "output_type": "display_data"
    }
   ],
   "source": [
    "profile"
   ]
  },
  {
   "cell_type": "code",
   "execution_count": 52,
   "metadata": {},
   "outputs": [],
   "source": [
    "# Defining feature values\n",
    "feature_names <- c('cupSizexprice', 'flavors')\n",
    "feature_values <- list()\n",
    "feature_values[[1]] <- c('300ml, 5000', '300ml, 7000', '450ml, 7000', '450ml, 9000', '600ml, 9000', '600ml, 11000')\n",
    "feature_values[[2]] <- c('original', 'buah', 'milk tea')"
   ]
  },
  {
   "cell_type": "code",
   "execution_count": 53,
   "metadata": {},
   "outputs": [
    {
     "name": "stdout",
     "output_type": "stream",
     "text": [
      "\n",
      "Call:\n",
      "lm(formula = frml)\n",
      "\n",
      "Residuals:\n",
      "ALL 8 residuals are 0: no residual degrees of freedom!\n",
      "\n",
      "Coefficients:\n",
      "                         Estimate Std. Error t value Pr(>|t|)\n",
      "(Intercept)                3,0000         NA      NA       NA\n",
      "factor(x$cupSizeXprice)1  -0,6667         NA      NA       NA\n",
      "factor(x$cupSizeXprice)2   0,3333         NA      NA       NA\n",
      "factor(x$cupSizeXprice)3   0,3333         NA      NA       NA\n",
      "factor(x$cupSizeXprice)4   0,3333         NA      NA       NA\n",
      "factor(x$cupSizeXprice)5   0,3333         NA      NA       NA\n",
      "factor(x$flavors)1        -1,3333         NA      NA       NA\n",
      "factor(x$flavors)2        -1,3333         NA      NA       NA\n",
      "\n",
      "Residual standard error: NaN on 0 degrees of freedom\n",
      "Multiple R-squared:      1,\tAdjusted R-squared:    NaN \n",
      "F-statistic:   NaN on 7 and 0 DF,  p-value: NA\n",
      "\n",
      "[1] \"Part worths (utilities) of levels (model parameters for whole sample):\"\n",
      "         levnms    utls\n",
      "1     intercept       3\n",
      "2   300ml, 5000 -0,6667\n",
      "3   300ml, 7000  0,3333\n",
      "4   450ml, 7000  0,3333\n",
      "5   450ml, 9000  0,3333\n",
      "6   600ml, 9000  0,3333\n",
      "7  600ml, 11000 -0,6667\n",
      "8      original -1,3333\n",
      "9          buah -1,3333\n",
      "10     milk tea  2,6667\n",
      "[1] \"Average importance of factors (attributes):\"\n",
      "[1] 20 80\n",
      "[1] Sum of average importance:  100\n",
      "[1] \"Chart of average factors importance\"\n"
     ]
    },
    {
     "data": {
      "text/plain": [
       "       V1     \n",
       " Min.   :0.7  \n",
       " 1st Qu.:1.0  \n",
       " Median :1.3  \n",
       " Mean   :1.3  \n",
       " 3rd Qu.:1.6  \n",
       " Max.   :1.9  "
      ]
     },
     "metadata": {},
     "output_type": "display_data"
    },
    {
     "name": "stdout",
     "output_type": "stream",
     "text": [
      "\n",
      "Call:\n",
      "lm(formula = frml)\n",
      "\n",
      "Residuals:\n",
      "ALL 8 residuals are 0: no residual degrees of freedom!\n",
      "\n",
      "Coefficients:\n",
      "                         Estimate Std. Error t value Pr(>|t|)\n",
      "(Intercept)                3,0000         NA      NA       NA\n",
      "factor(x$cupSizeXprice)1  -0,6667         NA      NA       NA\n",
      "factor(x$cupSizeXprice)2   0,3333         NA      NA       NA\n",
      "factor(x$cupSizeXprice)3   0,3333         NA      NA       NA\n",
      "factor(x$cupSizeXprice)4   0,3333         NA      NA       NA\n",
      "factor(x$cupSizeXprice)5   0,3333         NA      NA       NA\n",
      "factor(x$flavors)1        -1,3333         NA      NA       NA\n",
      "factor(x$flavors)2        -1,3333         NA      NA       NA\n",
      "\n",
      "Residual standard error: NaN on 0 degrees of freedom\n",
      "Multiple R-squared:      1,\tAdjusted R-squared:    NaN \n",
      "F-statistic:   NaN on 7 and 0 DF,  p-value: NA\n",
      "\n",
      "[1] \"Part worths (utilities) of levels (model parameters for whole sample):\"\n",
      "         levnms    utls\n",
      "1     intercept       3\n",
      "2   300ml, 5000 -0,6667\n",
      "3   300ml, 7000  0,3333\n",
      "4   450ml, 7000  0,3333\n",
      "5   450ml, 9000  0,3333\n",
      "6   600ml, 9000  0,3333\n",
      "7  600ml, 11000 -0,6667\n",
      "8      original -1,3333\n",
      "9          buah -1,3333\n",
      "10     milk tea  2,6667\n",
      "[1] \"Average importance of factors (attributes):\"\n",
      "[1] 20 80\n",
      "[1] Sum of average importance:  100\n",
      "[1] \"Chart of average factors importance\"\n"
     ]
    },
    {
     "data": {
      "text/plain": [
       "       V1     \n",
       " Min.   :0.7  \n",
       " 1st Qu.:1.0  \n",
       " Median :1.3  \n",
       " Mean   :1.3  \n",
       " 3rd Qu.:1.6  \n",
       " Max.   :1.9  "
      ]
     },
     "metadata": {},
     "output_type": "display_data"
    },
    {
     "name": "stdout",
     "output_type": "stream",
     "text": [
      "\n",
      "Call:\n",
      "lm(formula = frml)\n",
      "\n",
      "Residuals:\n",
      "ALL 8 residuals are 0: no residual degrees of freedom!\n",
      "\n",
      "Coefficients:\n",
      "                         Estimate Std. Error t value Pr(>|t|)\n",
      "(Intercept)                3,0000         NA      NA       NA\n",
      "factor(x$cupSizeXprice)1  -0,6667         NA      NA       NA\n",
      "factor(x$cupSizeXprice)2   0,3333         NA      NA       NA\n",
      "factor(x$cupSizeXprice)3   0,3333         NA      NA       NA\n",
      "factor(x$cupSizeXprice)4   0,3333         NA      NA       NA\n",
      "factor(x$cupSizeXprice)5   0,3333         NA      NA       NA\n",
      "factor(x$flavors)1        -1,3333         NA      NA       NA\n",
      "factor(x$flavors)2        -1,3333         NA      NA       NA\n",
      "\n",
      "Residual standard error: NaN on 0 degrees of freedom\n",
      "Multiple R-squared:      1,\tAdjusted R-squared:    NaN \n",
      "F-statistic:   NaN on 7 and 0 DF,  p-value: NA\n",
      "\n",
      "[1] \"Part worths (utilities) of levels (model parameters for whole sample):\"\n",
      "         levnms    utls\n",
      "1     intercept       3\n",
      "2   300ml, 5000 -0,6667\n",
      "3   300ml, 7000  0,3333\n",
      "4   450ml, 7000  0,3333\n",
      "5   450ml, 9000  0,3333\n",
      "6   600ml, 9000  0,3333\n",
      "7  600ml, 11000 -0,6667\n",
      "8      original -1,3333\n",
      "9          buah -1,3333\n",
      "10     milk tea  2,6667\n",
      "[1] \"Average importance of factors (attributes):\"\n",
      "[1] 20 80\n",
      "[1] Sum of average importance:  100\n",
      "[1] \"Chart of average factors importance\"\n"
     ]
    },
    {
     "data": {
      "text/plain": [
       "       V1     \n",
       " Min.   :0.7  \n",
       " 1st Qu.:1.0  \n",
       " Median :1.3  \n",
       " Mean   :1.3  \n",
       " 3rd Qu.:1.6  \n",
       " Max.   :1.9  "
      ]
     },
     "metadata": {},
     "output_type": "display_data"
    }
   ],
   "source": [
    "summary(Conjoint(preferences, profile, z = unlist(feature_values), 'score'))"
   ]
  },
  {
   "cell_type": "raw",
   "metadata": {},
   "source": [
    "Cup size & Price: \n",
    "1. 300ml, 5000\n",
    "2. 300ml, 7000\n",
    "3. 450ml, 7000\n",
    "4. 450ml, 9000\n",
    "5. 600ml, 9000\n",
    "6. 600ml, 11000"
   ]
  },
  {
   "cell_type": "code",
   "execution_count": null,
   "metadata": {},
   "outputs": [],
   "source": []
  },
  {
   "cell_type": "code",
   "execution_count": null,
   "metadata": {},
   "outputs": [],
   "source": []
  }
 ],
 "metadata": {
  "kernelspec": {
   "display_name": "R (R-Project)",
   "language": "r",
   "name": "ir"
  },
  "language_info": {
   "codemirror_mode": "r",
   "file_extension": ".r",
   "mimetype": "text/x-r-source",
   "name": "R",
   "pygments_lexer": "r",
   "version": "3.4.4"
  }
 },
 "nbformat": 4,
 "nbformat_minor": 2
}
