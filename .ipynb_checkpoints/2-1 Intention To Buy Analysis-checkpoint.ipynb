{
 "cells": [
  {
   "cell_type": "code",
   "execution_count": null,
   "metadata": {},
   "outputs": [],
   "source": [
    "# Reading the necessary data file\n",
    "df_poci <- read.csv(1-2 df_poci_cleaned.xlsx)"
   ]
  },
  {
   "cell_type": "code",
   "execution_count": null,
   "metadata": {},
   "outputs": [],
   "source": [
    "# Checking the structure of df_poci\n",
    "str(df_poci)"
   ]
  },
  {
   "cell_type": "code",
   "execution_count": null,
   "metadata": {},
   "outputs": [],
   "source": [
    "# Checking the intentionToBuy column of df_poci\n",
    "df_poci$intentionToBuy"
   ]
  },
  {
   "cell_type": "code",
   "execution_count": null,
   "metadata": {},
   "outputs": [],
   "source": [
    "# Constructing a table of df_poci's intentionToBuy column\n",
    "df_intentToBuy <- data.frame(matrix(df_poci$intentionToBuy))"
   ]
  },
  {
   "cell_type": "code",
   "execution_count": null,
   "metadata": {},
   "outputs": [],
   "source": [
    "# Calculating proportion of each option\n",
    "df_intentToBuy <- df_intentToBuy / nrow(df_poci)"
   ]
  },
  {
   "cell_type": "code",
   "execution_count": null,
   "metadata": {},
   "outputs": [],
   "source": [
    "# Calculating market share\n",
    "marketShare <- df_intentToBuy[4] * 0.2 + df_intentToBuy[5] * 0.4"
   ]
  },
  {
   "cell_type": "code",
   "execution_count": null,
   "metadata": {},
   "outputs": [],
   "source": [
    "# Calculating market size\n",
    "totalCustomer <- \n",
    "drinksPerDay <- \n",
    "marketSize <- marketShare * drinksPerDay * totalCustomer"
   ]
  },
  {
   "cell_type": "code",
   "execution_count": null,
   "metadata": {},
   "outputs": [],
   "source": [
    "# Showing summary\n",
    "df_intentToBuy[4]\n",
    "df_intentToBuy[5]\n",
    "marketShare\n",
    "marketSize"
   ]
  }
 ],
 "metadata": {
  "kernelspec": {
   "display_name": "R (R-Project)",
   "language": "r",
   "name": "ir"
  },
  "language_info": {
   "codemirror_mode": "r",
   "file_extension": ".r",
   "mimetype": "text/x-r-source",
   "name": "R",
   "pygments_lexer": "r",
   "version": "3.4.4"
  }
 },
 "nbformat": 4,
 "nbformat_minor": 2
}
