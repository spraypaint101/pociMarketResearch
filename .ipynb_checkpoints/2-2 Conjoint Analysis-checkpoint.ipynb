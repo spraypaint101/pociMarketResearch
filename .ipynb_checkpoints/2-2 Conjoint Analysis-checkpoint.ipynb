{
 "cells": [
  {
   "cell_type": "code",
   "execution_count": 1,
   "metadata": {},
   "outputs": [],
   "source": [
    "# Importing the necessary packages\n",
    "library(AlgDesign)\n",
    "library(MLCM)"
   ]
  },
  {
   "cell_type": "code",
   "execution_count": 3,
   "metadata": {},
   "outputs": [
    {
     "ename": "ERROR",
     "evalue": "Error: invalid version specification ‘conjoint’\n",
     "output_type": "error",
     "traceback": [
      "Error: invalid version specification ‘conjoint’\nTraceback:\n",
      "1. package_version(\"conjoint\")",
      "2. .make_numeric_version(x, strict, .standard_regexps()$valid_package_version, \n .     \"package_version\")",
      "3. stop(gettextf(\"invalid version specification %s\", paste(sQuote(unique(x[!ok])), \n .     collapse = \", \")), call. = FALSE, domain = NA)"
     ]
    }
   ],
   "source": [
    "package_version('conjoint')"
   ]
  },
  {
   "cell_type": "raw",
   "metadata": {},
   "source": [
    "[CONJOINT MODEL SPECIFICATIONS]\n",
    "Target variable: Utility\n",
    "Factors and levels:\n",
    "Cup size: 300ml, 450ml, 600ml (OK)\n",
    "Flavors: original, strawberry, orange (?)\n",
    "Price: 3000, 5000, 7000 (?) Atau 4000, 5000, 6000?\n",
    "Prohibited combinations: Why don't we just generate an orthogonal design first, and then see whether or not any unrealistic combinations are generated? <- guess this is OK\n",
    "Number of orthogonal objects = 9 - 3 + 1 = 7"
   ]
  },
  {
   "cell_type": "code",
   "execution_count": null,
   "metadata": {},
   "outputs": [],
   "source": [
    "# Defining the (initial) full factorial design\n",
    "ffd <- gen.factorial(c(3, 3, 3), varNames = c('cupSize', 'flavors', 'price'), factors = 'all')"
   ]
  },
  {
   "cell_type": "code",
   "execution_count": null,
   "metadata": {},
   "outputs": [],
   "source": [
    "# Checking ffd\n",
    "ffd"
   ]
  },
  {
   "cell_type": "code",
   "execution_count": null,
   "metadata": {},
   "outputs": [],
   "source": [
    "# Generating the orthogonal design\n",
    "set.seed(42)\n",
    "des <- optFederov(~., ffd, 7)\n",
    "des$design"
   ]
  },
  {
   "cell_type": "raw",
   "metadata": {},
   "source": [
    "[DESIGN SENSIBILITY CHECK]\n",
    "Cup size: 300ml, 450ml, 600ml (OK)\n",
    "Flavors: original, strawberry, orange (?)\n",
    "Price: 3000, 5000, 7000 (?) Atau 4000, 5000, 6000?\n",
    "\n",
    "This design creates a few designs that don't really make sense (ex. row 9: 600ml, orange, at only 3000?) Hence, some remedies would be necessary.\n",
    "\n",
    "Alternatively, we could combine price with cupSize; That might make more sense.\n",
    "\n",
    "Sensible combinations (7 levels):\n",
    "300ml, 3000\n",
    "300ml, 5000\n",
    "450ml, 3000\n",
    "450ml, 5000\n",
    "450ml, 7000\n",
    "600ml, 5000\n",
    "600ml, 7000\n",
    "\n",
    "Number of orthogonal objects = 10 - 2 + 1 = 9\n",
    "\n",
    "Still too many? Ideally under 7.\n",
    "\n",
    "I still think 9 questions is somewhat long, but we'll have to experiment tomorrow. Let's just try out this version (with 9 questions for this), and see how much time it takes (and whether you'd get confused when filling it in)."
   ]
  },
  {
   "cell_type": "code",
   "execution_count": null,
   "metadata": {},
   "outputs": [],
   "source": [
    "# Defining the combined full factorial design\n",
    "ffdComb <- gen.factorial(c(7, 3), varNames = c('cupSize-price', 'flavors'), factors = 'all')"
   ]
  },
  {
   "cell_type": "code",
   "execution_count": null,
   "metadata": {},
   "outputs": [],
   "source": [
    "# Checking ffdComb\n",
    "ffdComb"
   ]
  },
  {
   "cell_type": "code",
   "execution_count": null,
   "metadata": {},
   "outputs": [],
   "source": [
    "# Generating the orthogonal design of ffdComb\n",
    "set.seed(42)\n",
    "desComb <- optFederov(~., ffdComb,11)\n",
    "desComb$design"
   ]
  },
  {
   "cell_type": "raw",
   "metadata": {},
   "source": [
    "[DESIGN SENSIBILITY CHECK]\n",
    "Cup size & Price: \n",
    "1. 300ml, 3000\n",
    "2. 300ml, 5000\n",
    "3. 450ml, 3000\n",
    "4. 450ml, 5000\n",
    "5. 450ml, 7000\n",
    "6. 600ml, 5000\n",
    "7. 600ml, 7000\n",
    "Flavors: 1. original, 2. strawberry, 3. orange\n",
    "1. 300ml, 3000, original\n",
    "2. 450ml, 3000, original\n",
    "3. 600ml, 5000, original\n",
    "4. 300ml, 3000, strawberry\n",
    "5. 450ml, 3000, strawberry\n",
    "6. 450ml, 5000, strawberry\n",
    "7. 450ml, 7000, strawberry\n",
    "8. 300ml, 5000, orange\n",
    "9. 450ml, 7000, orange\n",
    "10. 600ml, 5000, orange\n",
    "11. 600ml, 7000, orange\n",
    "nb: setelah dipikir-pikir lagi, mungkin 3000 untuk 450ml juga tidak terlalu realistis. sepertinya range harganya harus sedikit ditingkatkan.\n",
    "\n",
    "Harga jadi 4000, 5000, 7000.\n",
    "Cup size & Price: \n",
    "1. 300ml, 4000\n",
    "2. 300ml, 5000\n",
    "3. 450ml, 5000\n",
    "4. 450ml, 7000\n",
    "5. 600ml, 5000\n",
    "6. 600ml, 7000"
   ]
  },
  {
   "cell_type": "code",
   "execution_count": null,
   "metadata": {},
   "outputs": [],
   "source": [
    "# Defining the modified combined full factorial design\n",
    "ffdModComb <- gen.factorial(c(6, 3), varNames = c('cupSize-price', 'flavors'), factors = 'all')"
   ]
  },
  {
   "cell_type": "code",
   "execution_count": null,
   "metadata": {},
   "outputs": [],
   "source": [
    "# Checking ffdModComb\n",
    "ffdModComb"
   ]
  },
  {
   "cell_type": "code",
   "execution_count": null,
   "metadata": {},
   "outputs": [],
   "source": [
    "# Generating the orthogonal design of ffdModComb\n",
    "set.seed(42)\n",
    "desModComb <- optFederov(~., ffdModComb,8)\n",
    "desModComb$design"
   ]
  },
  {
   "cell_type": "raw",
   "metadata": {},
   "source": [
    "330[DESIGN SENSIBILITY CHECK]\n",
    "1. 300ml, 7000, original\n",
    "2. 450ml, 7000, original\n",
    "3. 600ml, 9000, original\n",
    "4. 300ml, 5000, buah\n",
    "5. 450ml, 7000, buah\n",
    "6. 450ml, 9000, buah\n",
    "7. 600ml, 11000, buah\n",
    "8. 600ml, 11000, milk tea\n",
    "\n",
    "Cup size & Price: \n",
    "1. 300ml, 5000\n",
    "2. 300ml, 7000\n",
    "3. 450ml, 7000\n",
    "4. 450ml, 9000\n",
    "5. 600ml, 9000\n",
    "6. 600ml, 11000\n",
    "\n",
    "Flavors: 1. original, 2. buah, 3. milk tea\n",
    "\n",
    "5000 untuk cup 600 ml apakah sensible? Rasanya tidak.. coba agak disesuaikan lagi\n",
    "\n",
    "nb: kalo untuk tiap ukuran cup cuman bisa ada 2 harga, mendingan std an turun"
   ]
  },
  {
   "cell_type": "raw",
   "metadata": {},
   "source": [
    "NOTE: We might have to take the conjoint analysis part of this down offline; The conjoint package doesn't seem to be available on the server."
   ]
  },
  {
   "cell_type": "code",
   "execution_count": null,
   "metadata": {},
   "outputs": [],
   "source": [
    "results <- desModComb$design"
   ]
  },
  {
   "cell_type": "code",
   "execution_count": null,
   "metadata": {},
   "outputs": [],
   "source": [
    "answers <- c(2, 4, 2, 2, 3, 5, 4, 3)"
   ]
  },
  {
   "cell_type": "code",
   "execution_count": null,
   "metadata": {},
   "outputs": [],
   "source": [
    "urutan <- c(2, 4, 8, 1, 6, 3, 5, 7)\n",
    "results$answers[urutan] <- answers"
   ]
  },
  {
   "cell_type": "code",
   "execution_count": null,
   "metadata": {},
   "outputs": [],
   "source": [
    "results"
   ]
  },
  {
   "cell_type": "code",
   "execution_count": null,
   "metadata": {},
   "outputs": [],
   "source": [
    "names(results) <- c('cupSizeXprice', 'flavors', 'answers')"
   ]
  },
  {
   "cell_type": "code",
   "execution_count": null,
   "metadata": {},
   "outputs": [],
   "source": [
    "str(results)"
   ]
  },
  {
   "cell_type": "code",
   "execution_count": null,
   "metadata": {},
   "outputs": [],
   "source": [
    "summary(lm(answers ~ cupSizeXprice + flavors, data = results))"
   ]
  },
  {
   "cell_type": "code",
   "execution_count": null,
   "metadata": {},
   "outputs": [],
   "source": []
  },
  {
   "cell_type": "code",
   "execution_count": null,
   "metadata": {},
   "outputs": [],
   "source": []
  },
  {
   "cell_type": "code",
   "execution_count": null,
   "metadata": {},
   "outputs": [],
   "source": []
  },
  {
   "cell_type": "code",
   "execution_count": null,
   "metadata": {},
   "outputs": [],
   "source": []
  },
  {
   "cell_type": "code",
   "execution_count": null,
   "metadata": {},
   "outputs": [],
   "source": []
  }
 ],
 "metadata": {
  "kernelspec": {
   "display_name": "R (R-Project)",
   "language": "r",
   "name": "ir"
  },
  "language_info": {
   "codemirror_mode": "r",
   "file_extension": ".r",
   "mimetype": "text/x-r-source",
   "name": "R",
   "pygments_lexer": "r",
   "version": "3.4.4"
  }
 },
 "nbformat": 4,
 "nbformat_minor": 2
}
